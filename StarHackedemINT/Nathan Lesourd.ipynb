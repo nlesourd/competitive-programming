{
 "cells": [
  {
   "cell_type": "markdown",
   "id": "sufficient-pierce",
   "metadata": {},
   "source": [
    "# StarHackademINT2022\n",
    "\n",
    "## Nathan Lesourd ITI4\n",
    "\n",
    "# Crypto"
   ]
  },
  {
   "cell_type": "markdown",
   "id": "reliable-bottom",
   "metadata": {},
   "source": [
    "zfill: pour forcer à être à une certaine taille\n",
    "chr: fait le lien avec le caractère de la table ascii\n",
    "ord: fonction réciproque de chr\n",
    "%: modulo\n",
    "^: xor avec propriétés interessantes, symetrique\n",
    "print(*decode,sep=\"\"): permet d'afficher un str comme un entier "
   ]
  },
  {
   "cell_type": "markdown",
   "id": "viral-sense",
   "metadata": {},
   "source": [
    "## 1) Auguste"
   ]
  },
  {
   "cell_type": "code",
   "execution_count": 1,
   "id": "talented-worship",
   "metadata": {},
   "outputs": [
    {
     "name": "stdout",
     "output_type": "stream",
     "text": [
      "StariIlMfautMrendreMaMCesarMsaMsaladek\n"
     ]
    }
   ],
   "source": [
    "original = list(\"Klsj{Ad_xsml_jwfvjw_s_Uwksj_ks_ksdsvw}\")\n",
    "decode = [chr((ord(lettre)-89)%26 + 97) if ord(lettre)>=97 else chr((ord(lettre)-57)%26 + 65) for lettre in original]\n",
    "print(*decode,sep=\"\")"
   ]
  },
  {
   "cell_type": "markdown",
   "id": "expanded-security",
   "metadata": {},
   "source": [
    "## 2) CEXOR"
   ]
  },
  {
   "cell_type": "code",
   "execution_count": 2,
   "id": "equal-southeast",
   "metadata": {},
   "outputs": [
    {
     "name": "stdout",
     "output_type": "stream",
     "text": [
      "Star{L0uX0R_j'4d0r3}\n"
     ]
    }
   ],
   "source": [
    "original = bin(0x71564350596e12577a12707d480516461250115f)[2:].zfill(160)\n",
    "\n",
    "#S dans la table ASCII: 01010011\n",
    "#comme on connait cette partie de la clé on peut en déduire le masque\n",
    "cle_S = int(\"01010011\",2)\n",
    "original_int = int(original[:8],2)\n",
    "masque = bin(cle_S^original_int)[2:].zfill(8)\n",
    "masque_complet = \"\"\n",
    "for i in range(20):\n",
    "    masque_complet += masque\n",
    "cle = bin(int(masque_complet,2)^int(original,2))[2:].zfill(160)\n",
    "cle_final = \"\"\n",
    "for i in range(20):\n",
    "    cle_final += chr(int(cle[i*8:i*8+8],2))\n",
    "print(*cle_final,sep=\"\")"
   ]
  },
  {
   "cell_type": "markdown",
   "id": "c0a6d9b3",
   "metadata": {},
   "source": [
    "# Cryptographie\n",
    "\n",
    "Notes sur la présentation des 5A\n",
    "\n",
    "## RSA\n",
    "Outil: sage, gestion de l'arithmétique\n",
    "\n",
    "n=pq\n",
    "phi = (p-1)(q-1)\n",
    "e: encoder (souvent fixé à 65537)\n",
    "d: decoder\n",
    "\n",
    "cryptage\n",
    "m --> m^e mod n\n",
    "\n",
    "decodage\n",
    "m <-- (m^e)^d  mod n\n",
    "\n",
    "1) factorisation de n: factor(n) avec sage\n",
    "2) calcul de phi\n",
    "3) calcul de d: inverse_mod(e,phi)\n",
    "4) calcul de m: power_mod(m,e,d)\n",
    "\n",
    "\n",
    "## Oracle\n",
    "multiplication par 2^e\n",
    "\n",
    "# WEB\n",
    "md5 == magic hashess\n",
    "\n",
    "pentestmonkey\n",
    "\n",
    "injection SQL:\n",
    "fermer avec \"} puis mettre une requete à la suite pour hacker la bd\n",
    "\n",
    "\n",
    "\n",
    "# REVERSE\n",
    "\n",
    "outil: gdb\n"
   ]
  }
 ],
 "metadata": {
  "kernelspec": {
   "display_name": "Python 3 (ipykernel)",
   "language": "python",
   "name": "python3"
  },
  "language_info": {
   "codemirror_mode": {
    "name": "ipython",
    "version": 3
   },
   "file_extension": ".py",
   "mimetype": "text/x-python",
   "name": "python",
   "nbconvert_exporter": "python",
   "pygments_lexer": "ipython3",
   "version": "3.10.6"
  }
 },
 "nbformat": 4,
 "nbformat_minor": 5
}
